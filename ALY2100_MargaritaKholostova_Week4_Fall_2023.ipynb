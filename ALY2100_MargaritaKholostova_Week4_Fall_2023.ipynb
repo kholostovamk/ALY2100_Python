{
 "cells": [
  {
   "cell_type": "markdown",
   "id": "95b95d44",
   "metadata": {},
   "source": [
    "# Assignment 4 - ALY2100 CRN SEC 02 Fall 2023 CPS\n",
    "\n",
    "---\n",
    "Student: Margarita Kholostova\n",
    "\n",
    "Instructor: Vladimir Shapiro\n",
    "\n",
    "Date: October 1, 2023\n",
    "\n",
    "\n",
    "---\n",
    "\n",
    "<div style=\"page-break-after: always;\"></div>"
   ]
  },
  {
   "cell_type": "markdown",
   "id": "6a51fcab",
   "metadata": {},
   "source": [
    "## Introduction\n",
    "Phone numbers have come a long way from just being numbers to now being able to represent words or phrases. This has allowed businesses to use vanity phone numbers for better customer recall. Individuals can also find out which words their phone numbers spell out. \n",
    "\n",
    "We have two programs that help with this. One program translates a phone number to all possible word combinations it can represent, which can be an entertaining activity for individuals. The second program generates a phone number when given a word or phrase, which is helpful for businesses looking to create a memorable phone number (Open AI, 2023).\n",
    "\n",
    "Both programs face the challenge of converting numbers to words and ensuring that user inputs are valid and meaningful for the conversion process."
   ]
  },
  {
   "cell_type": "markdown",
   "id": "910960dc",
   "metadata": {},
   "source": [
    "## Analysis\n"
   ]
  },
  {
   "cell_type": "markdown",
   "id": "061a4db0",
   "metadata": {},
   "source": [
    "### Task 1\n",
    "Many people find it challenging to memorize phone numbers, so they use the correspondence between digits and letters to develop seven-letter words (or phrases) corresponding to their phone numbers. For example, a person whose telephone number is 686-2377 might use the correspondence in the preceding table to develop the seven-letter word \"NUMBERS.”\n",
    "\n",
    "Every seven-letter word or phrase corresponds to precisely one seven-digit telephone number. A budding data science entrepreneur might like to reserve phone number 244-3282 (“BIGDATA\").  Every seven-digit phone number without 0s or 1s corresponds to many different seven-letter words, but most of these words represent unrecognizable gibberish. A veterinarian with phone number 738-2273 would be pleased to know that the number corresponds to the literal string “PETCARE.”\n",
    "\n",
    "Write a script using a function that, given a seven-digit number, generates every possible seven-letter word combination corresponding to that number. There are 2,187 (37) such combinations. Avoid phone numbers with the digits 0 and 1 (to which no letters correspond). Check the first one hundred and see if your phone number corresponds to meaningful words.\n",
    "\n",
    "Standard telephone keypads contain the digits zero through nine:\n",
    "Digit   \tLetters\n",
    "2 \tАBC\n",
    "3 \tDEF\n",
    "4 \tGHI\n",
    "... \t...\n",
    "9 \tWYZ"
   ]
  },
  {
   "cell_type": "code",
   "execution_count": 2,
   "id": "47a77dfe",
   "metadata": {},
   "outputs": [
    {
     "name": "stdout",
     "output_type": "stream",
     "text": [
      "Please provide number from 2 to 9: 0\n",
      "Invalid number.\n",
      "Please provide number from 2 to 9: 9\n",
      "Invalid amount of digits.\n",
      "Please provide number from 2 to 9: nkjnk\n",
      "Invalid number.\n",
      "Please provide number from 2 to 9: 23456666\n",
      "Invalid amount of digits.\n",
      "Please provide number from 2 to 9: 2345678\n",
      "['2', '3', '4', '5', '6', '7', '8']\n",
      "Here are the first 100 results: \n",
      " ['adgjmpt', 'adgjmpu', 'adgjmpv', 'adgjmqt', 'adgjmqu', 'adgjmqv', 'adgjmrt', 'adgjmru', 'adgjmrv', 'adgjmst', 'adgjmsu', 'adgjmsv', 'adgjnpt', 'adgjnpu', 'adgjnpv', 'adgjnqt', 'adgjnqu', 'adgjnqv', 'adgjnrt', 'adgjnru', 'adgjnrv', 'adgjnst', 'adgjnsu', 'adgjnsv', 'adgjopt', 'adgjopu', 'adgjopv', 'adgjoqt', 'adgjoqu', 'adgjoqv', 'adgjort', 'adgjoru', 'adgjorv', 'adgjost', 'adgjosu', 'adgjosv', 'adgkmpt', 'adgkmpu', 'adgkmpv', 'adgkmqt', 'adgkmqu', 'adgkmqv', 'adgkmrt', 'adgkmru', 'adgkmrv', 'adgkmst', 'adgkmsu', 'adgkmsv', 'adgknpt', 'adgknpu', 'adgknpv', 'adgknqt', 'adgknqu', 'adgknqv', 'adgknrt', 'adgknru', 'adgknrv', 'adgknst', 'adgknsu', 'adgknsv', 'adgkopt', 'adgkopu', 'adgkopv', 'adgkoqt', 'adgkoqu', 'adgkoqv', 'adgkort', 'adgkoru', 'adgkorv', 'adgkost', 'adgkosu', 'adgkosv', 'adglmpt', 'adglmpu', 'adglmpv', 'adglmqt', 'adglmqu', 'adglmqv', 'adglmrt', 'adglmru', 'adglmrv', 'adglmst', 'adglmsu', 'adglmsv', 'adglnpt', 'adglnpu', 'adglnpv', 'adglnqt', 'adglnqu', 'adglnqv', 'adglnrt', 'adglnru', 'adglnrv', 'adglnst', 'adglnsu', 'adglnsv', 'adglopt', 'adglopu', 'adglopv', 'adgloqt']\n",
      "Do you need another conversion? (y/n)y\n",
      "Please provide number from 2 to 9: 5566889\n",
      "['5', '5', '6', '6', '8', '8', '9']\n",
      "Here are the first 100 results: \n",
      " ['jjmmttw', 'jjmmttx', 'jjmmtty', 'jjmmttz', 'jjmmtuw', 'jjmmtux', 'jjmmtuy', 'jjmmtuz', 'jjmmtvw', 'jjmmtvx', 'jjmmtvy', 'jjmmtvz', 'jjmmutw', 'jjmmutx', 'jjmmuty', 'jjmmutz', 'jjmmuuw', 'jjmmuux', 'jjmmuuy', 'jjmmuuz', 'jjmmuvw', 'jjmmuvx', 'jjmmuvy', 'jjmmuvz', 'jjmmvtw', 'jjmmvtx', 'jjmmvty', 'jjmmvtz', 'jjmmvuw', 'jjmmvux', 'jjmmvuy', 'jjmmvuz', 'jjmmvvw', 'jjmmvvx', 'jjmmvvy', 'jjmmvvz', 'jjmnttw', 'jjmnttx', 'jjmntty', 'jjmnttz', 'jjmntuw', 'jjmntux', 'jjmntuy', 'jjmntuz', 'jjmntvw', 'jjmntvx', 'jjmntvy', 'jjmntvz', 'jjmnutw', 'jjmnutx', 'jjmnuty', 'jjmnutz', 'jjmnuuw', 'jjmnuux', 'jjmnuuy', 'jjmnuuz', 'jjmnuvw', 'jjmnuvx', 'jjmnuvy', 'jjmnuvz', 'jjmnvtw', 'jjmnvtx', 'jjmnvty', 'jjmnvtz', 'jjmnvuw', 'jjmnvux', 'jjmnvuy', 'jjmnvuz', 'jjmnvvw', 'jjmnvvx', 'jjmnvvy', 'jjmnvvz', 'jjmottw', 'jjmottx', 'jjmotty', 'jjmottz', 'jjmotuw', 'jjmotux', 'jjmotuy', 'jjmotuz', 'jjmotvw', 'jjmotvx', 'jjmotvy', 'jjmotvz', 'jjmoutw', 'jjmoutx', 'jjmouty', 'jjmoutz', 'jjmouuw', 'jjmouux', 'jjmouuy', 'jjmouuz', 'jjmouvw', 'jjmouvx', 'jjmouvy', 'jjmouvz', 'jjmovtw', 'jjmovtx', 'jjmovty', 'jjmovtz']\n",
      "Do you need another conversion? (y/n)n\n",
      "Bye\n"
     ]
    }
   ],
   "source": [
    "# Defining a dictionary that corresponds to old phone number letters\n",
    "alphabet = {\n",
    "    2: ['a', 'b', 'c'],\n",
    "    3: ['d', 'e', 'f'],\n",
    "    4: ['g', 'h', 'i'],\n",
    "    5: ['j', 'k', 'l'],\n",
    "    6: ['m', 'n', 'o'],\n",
    "    7: ['p', 'q', 'r', 's'],\n",
    "    8: ['t', 'u', 'v'],\n",
    "    9: ['w', 'x', 'y', 'z']\n",
    "}\n",
    "\n",
    "def numberConversion(phoneNumber):\n",
    "    \n",
    "    if not phoneNumber:\n",
    "        return ['No number provided.']\n",
    "   \n",
    "    #convert phoneNumber into list to access each number one by one\n",
    "    chosenNumber = list(phoneNumber)\n",
    "    \n",
    "    #check if works\n",
    "    print(chosenNumber)\n",
    "    \n",
    "    #accessing the first letters\n",
    "    words = alphabet[int(chosenNumber[0])]\n",
    "    \n",
    "    \n",
    "    for digit in chosenNumber[1:]:\n",
    "        \n",
    "        letters = alphabet[int(digit)]\n",
    "        #iterating through dictionary with list comprehension\n",
    "        words = [word + letter for word in words for letter in letters]\n",
    "    return words\n",
    "\n",
    "\n",
    "def quantityOfDigitsCheck(phoneNumber):\n",
    "    chosenNumber = list(phoneNumber)\n",
    "    \n",
    "    if len(chosenNumber) != 7:\n",
    "        return False\n",
    "    else:\n",
    "        return True\n",
    "    \n",
    "    \n",
    "def checkIfNumber(phoneNumber):\n",
    "    # check if all characters in the phoneNumber are digits\n",
    "    if not phoneNumber.isdigit():\n",
    "        return False\n",
    "    \n",
    "    # check if the phoneNumber contains any invalid digits (0 or 1)\n",
    "    for digit in phoneNumber:\n",
    "        if digit in ['0', '1']:\n",
    "            return False\n",
    "    \n",
    "    return True\n",
    "\n",
    "\n",
    "while True:\n",
    "    \n",
    "    phone = input('Please provide number from 2 to 9: ')\n",
    "\n",
    "    if checkIfNumber(phone):\n",
    "        if quantityOfDigitsCheck(phone):\n",
    "            result = numberConversion(phone)  \n",
    "            # Check for the 'No number provided.' message\n",
    "            if result[0] == 'No number provided.':\n",
    "                print(result[0])\n",
    "                continue\n",
    "        else:\n",
    "            print(\"Invalid amount of digits.\")\n",
    "            continue\n",
    "    else:\n",
    "        print(\"Invalid number.\")\n",
    "        continue\n",
    "\n",
    "        \n",
    "        \n",
    "    print(\"Here are the first 100 results: \\n\", result[:100])\n",
    "    \n",
    "    choice = input(\"Do you need another conversion? (y/n)\")\n",
    "    if choice == 'n' or choice == \"no\":\n",
    "        print(\"Bye\")\n",
    "        break\n",
    "      "
   ]
  },
  {
   "cell_type": "markdown",
   "id": "455361a2",
   "metadata": {},
   "source": [
    "### Task 2\n",
    "Just as people would enjoy knowing what word or phrase their phone number corresponds to, they might choose a word or phrase appropriate to their business and determine what phone numbers correspond to it, e.g., \"PETCARE\". These are sometimes called vanity phone numbers, and various websites sell such phone numbers. Write a script similar to the above that produces the possible phone number for the given seven-letter string."
   ]
  },
  {
   "cell_type": "code",
   "execution_count": 3,
   "id": "67579fa2",
   "metadata": {
    "scrolled": true
   },
   "outputs": [
    {
     "name": "stdout",
     "output_type": "stream",
     "text": [
      "Please provide a seven-letter word (or type 'exit' to quit): petcare\n",
      "Result:  7382273\n",
      "Please provide a seven-letter word (or type 'exit' to quit): callmee\n",
      "Result:  2255633\n",
      "Please provide a seven-letter word (or type 'exit' to quit): pet\n",
      "Result:  Please provide a seven-letter word.\n",
      "Please provide a seven-letter word (or type 'exit' to quit): 423535\n",
      "Result:  Please provide a seven-letter word.\n",
      "Please provide a seven-letter word (or type 'exit' to quit): exit\n"
     ]
    }
   ],
   "source": [
    "alphabet = {\n",
    "    2: ['a', 'b', 'c'],\n",
    "    3: ['d', 'e', 'f'],\n",
    "    4: ['g', 'h', 'i'],\n",
    "    5: ['j', 'k', 'l'],\n",
    "    6: ['m', 'n', 'o'],\n",
    "    7: ['p', 'q', 'r', 's'],\n",
    "    8: ['t', 'u', 'v'],\n",
    "    9: ['w', 'x', 'y', 'z']\n",
    "}\n",
    "\n",
    "def wordToNumber(word):\n",
    "    # check for empty word\n",
    "    if not word:\n",
    "        return \"No word provided.\"\n",
    "    \n",
    "    # check for word length\n",
    "    if len(word) != 7:\n",
    "        return \"Please provide a seven-letter word.\"\n",
    "    \n",
    "    \n",
    "    word = word.lower()\n",
    "    \n",
    "    # invalid characters check\n",
    "    validLetters = ''.join([letter for group in alphabet.values() for letter in group])\n",
    "    for letter in word:\n",
    "        if letter not in validLetters:\n",
    "            return f\"'{letter}' is an invalid character.\"\n",
    "    \n",
    "    # Convert each letter in the word to its corresponding number\n",
    "    number = ''.join([str(key) for letter in word for key, letters in alphabet.items() if letter in letters])\n",
    "    \n",
    "    return number\n",
    "\n",
    "\n",
    "while True:\n",
    "    #break program if string is exit\n",
    "    word = input(\"Please provide a seven-letter word (or type 'exit' to quit): \")\n",
    "    if word.lower() == 'exit':\n",
    "        break\n",
    "    phoneNumber = wordToNumber(word)\n",
    "    print(\"Result: \", phoneNumber)\n"
   ]
  },
  {
   "cell_type": "markdown",
   "id": "ff348e8a",
   "metadata": {},
   "source": [
    "# Conclusions\n",
    "Throughout this assignment, we delved deep into the practical applications and nuances of lists, list comprehensions, loops, and conversions between strings and integers. By developing two distinct programs centered around phone numbers and their potential word representations, we explored the versatility and power of lists in Python. \n",
    "\n",
    "List comprehensions, in particular, showcased their efficiency and compactness, allowing for concise code that achieved complex tasks, such as generating all possible word combinations from a given number.\n",
    "Both traditional and within-list comprehensions, loops were instrumental in iterating through potential combinations and ensuring valid user inputs. The seamless conversion between strings and integers was pivotal, given the nature of the challenge, ensuring smooth transitions between numeric phone numbers and their alphabetic counterparts(OpenAI, 2023)."
   ]
  },
  {
   "cell_type": "markdown",
   "id": "33478654",
   "metadata": {},
   "source": [
    "# References\n",
    "\n",
    "1. Academy, N. (2023, August 6). List comprehension in Python. YouTube. https://www.youtube.com/watch?v=-_L0SHhFMC4&amp;t=474s \n",
    "2. GeeksforGeeks. (2023, July 20). How to write a pseudo code?. GeeksforGeeks. https://www.geeksforgeeks.org/how-to-write-a-pseudo-code/ \n",
    "3. Guttag, J. V. (2021). Introduction to computation and programming using python, third edition: With application to computational modeling and Understanding Data. MIT Press. \n",
    "4. OpenAI. (2023). ChatGPT (September 25 Version) [Large language model]. https://chat.openai.com"
   ]
  }
 ],
 "metadata": {
  "kernelspec": {
   "display_name": "Python 3 (ipykernel)",
   "language": "python",
   "name": "python3"
  },
  "language_info": {
   "codemirror_mode": {
    "name": "ipython",
    "version": 3
   },
   "file_extension": ".py",
   "mimetype": "text/x-python",
   "name": "python",
   "nbconvert_exporter": "python",
   "pygments_lexer": "ipython3",
   "version": "3.10.9"
  }
 },
 "nbformat": 4,
 "nbformat_minor": 5
}
